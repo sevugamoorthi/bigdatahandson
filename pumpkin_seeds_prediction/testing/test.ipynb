{
 "cells": [
  {
   "cell_type": "code",
   "execution_count": 11,
   "id": "c428f06a",
   "metadata": {},
   "outputs": [],
   "source": [
    "import pickle\n",
    "model = pickle.load(open('randomforest_model.pkl','rb'))"
   ]
  },
  {
   "cell_type": "code",
   "execution_count": 2,
   "id": "2506c1b7",
   "metadata": {},
   "outputs": [],
   "source": [
    "while True:\n",
    "    perimeter = input(\"Enter the Perimeter: \")\n",
    "    try:\n",
    "        perimeter = float(perimeter)\n",
    "        break\n",
    "    except Exception:\n",
    "        print(\"Enter valid numbers!\")\n",
    "\n",
    "while True:\n",
    "    major_axis_length = input(\"Enter the Major_Axis_Length: \")\n",
    "    try:\n",
    "        major_axis_length = float(major_axis_length)\n",
    "        break\n",
    "    except Exception:\n",
    "        print(\"Enter valid numbers!\")\n",
    "\n",
    "while True:\n",
    "    minor_axis_length = input(\"Enter the Minor_Axis_Length: \")\n",
    "    try:\n",
    "        minor_axis_length = float(minor_axis_length)\n",
    "        break\n",
    "    except Exception:\n",
    "        print(\"Enter valid numbers!\")\n",
    "\n",
    "while True:\n",
    "    eccentricity = input(\"Enter the Eccentricity: \")\n",
    "    try:\n",
    "        eccentricity = float(eccentricity)\n",
    "        break\n",
    "    except Exception:\n",
    "        print(\"Enter valid numbers!\")\n",
    "\n",
    "while True:\n",
    "    solidity = input(\"Enter the Solidity: \")\n",
    "    try:\n",
    "        solidity = float(solidity)\n",
    "        break\n",
    "    except Exception:\n",
    "        print(\"Enter valid numbers!\")\n",
    "\n",
    "while True:\n",
    "    roundness = input(\"Enter the Roundness: \")\n",
    "    try:\n",
    "        roundness = float(roundness)\n",
    "        break\n",
    "    except Exception:\n",
    "        print(\"Enter valid numbers!\")\n",
    "\n",
    "while True:\n",
    "    aspect_ration = input(\"Enter the Aspect_Ration: \")\n",
    "    try:\n",
    "        aspect_ration = float(aspect_ration)\n",
    "        break\n",
    "    except Exception:\n",
    "        print(\"Enter valid numbers!\")\n",
    "\n",
    "while True:\n",
    "    compactness = input(\"Enter the Compactness: \")\n",
    "    try:\n",
    "        compactness = float(compactness)\n",
    "        break\n",
    "    except Exception:\n",
    "        print(\"Enter valid numbers!\")"
   ]
  },
  {
   "cell_type": "code",
   "execution_count": 9,
   "id": "e6b61447",
   "metadata": {},
   "outputs": [],
   "source": [
    "values = [[perimeter, major_axis_length, minor_axis_length, eccentricity, solidity, roundness, aspect_ration, compactness]]"
   ]
  },
  {
   "cell_type": "code",
   "execution_count": 12,
   "id": "144b6546",
   "metadata": {},
   "outputs": [
    {
     "name": "stderr",
     "output_type": "stream",
     "text": [
      "c:\\Users\\sevug\\AppData\\Local\\Programs\\Python\\Python312\\Lib\\site-packages\\sklearn\\base.py:493: UserWarning: X does not have valid feature names, but RandomForestClassifier was fitted with feature names\n",
      "  warnings.warn(\n"
     ]
    }
   ],
   "source": [
    "pred = model.predict(values)"
   ]
  },
  {
   "cell_type": "code",
   "execution_count": 13,
   "id": "cefa6755",
   "metadata": {},
   "outputs": [
    {
     "data": {
      "text/plain": [
       "'Çerçevelik'"
      ]
     },
     "execution_count": 13,
     "metadata": {},
     "output_type": "execute_result"
    }
   ],
   "source": [
    "pred[0]"
   ]
  },
  {
   "cell_type": "code",
   "execution_count": null,
   "id": "9d265fcd",
   "metadata": {},
   "outputs": [],
   "source": []
  }
 ],
 "metadata": {
  "kernelspec": {
   "display_name": "Python 3",
   "language": "python",
   "name": "python3"
  },
  "language_info": {
   "codemirror_mode": {
    "name": "ipython",
    "version": 3
   },
   "file_extension": ".py",
   "mimetype": "text/x-python",
   "name": "python",
   "nbconvert_exporter": "python",
   "pygments_lexer": "ipython3",
   "version": "3.12.3"
  }
 },
 "nbformat": 4,
 "nbformat_minor": 5
}
