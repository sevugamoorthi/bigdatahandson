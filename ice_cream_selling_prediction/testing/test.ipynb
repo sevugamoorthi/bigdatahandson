{
 "cells": [
  {
   "cell_type": "code",
   "execution_count": 3,
   "id": "391b4b3b",
   "metadata": {},
   "outputs": [],
   "source": [
    "import pickle\n",
    "model = pickle.load(open(r'C:\\Users\\sevug\\Desktop\\New folder\\bigdatahandson\\ice_cream_selling_prediction\\testing\\poly_linear.pkl','rb'))"
   ]
  },
  {
   "cell_type": "code",
   "execution_count": 1,
   "id": "7e15f2f8",
   "metadata": {},
   "outputs": [],
   "source": [
    "while True:\n",
    "    temp = input(\"Enter the temperature: \")\n",
    "    try:\n",
    "        tpemp = float(temp)\n",
    "        break\n",
    "    except Exception:\n",
    "        print(\"Enter the valid tempertature!\")"
   ]
  },
  {
   "cell_type": "code",
   "execution_count": 2,
   "id": "875ec1eb",
   "metadata": {},
   "outputs": [],
   "source": [
    "x = [[temp]]"
   ]
  },
  {
   "cell_type": "code",
   "execution_count": 4,
   "id": "e780f4d1",
   "metadata": {},
   "outputs": [],
   "source": [
    "preds = model.predict(x)"
   ]
  },
  {
   "cell_type": "code",
   "execution_count": 5,
   "id": "e2cf37d0",
   "metadata": {},
   "outputs": [
    {
     "data": {
      "text/plain": [
       "array([14521.49688391])"
      ]
     },
     "execution_count": 5,
     "metadata": {},
     "output_type": "execute_result"
    }
   ],
   "source": [
    "preds[0]"
   ]
  },
  {
   "cell_type": "code",
   "execution_count": null,
   "id": "2e1f6f25",
   "metadata": {},
   "outputs": [],
   "source": []
  }
 ],
 "metadata": {
  "kernelspec": {
   "display_name": "Python 3",
   "language": "python",
   "name": "python3"
  },
  "language_info": {
   "codemirror_mode": {
    "name": "ipython",
    "version": 3
   },
   "file_extension": ".py",
   "mimetype": "text/x-python",
   "name": "python",
   "nbconvert_exporter": "python",
   "pygments_lexer": "ipython3",
   "version": "3.12.3"
  }
 },
 "nbformat": 4,
 "nbformat_minor": 5
}
