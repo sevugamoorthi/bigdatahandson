{
 "cells": [
  {
   "cell_type": "code",
   "execution_count": 20,
   "id": "2cd1cc33",
   "metadata": {},
   "outputs": [],
   "source": [
    "from nltk.stem.wordnet import WordNetLemmatizer\n",
    "from nltk.corpus import stopwords\n",
    "import string\n",
    "import re"
   ]
  },
  {
   "cell_type": "code",
   "execution_count": 21,
   "id": "3fe2d7ff",
   "metadata": {},
   "outputs": [],
   "source": [
    "import pickle\n",
    "model = pickle.load(open('naive_bayes.pkl','rb'))\n",
    "vectorizer = pickle.load(open('count_vectorizer.pkl','rb'))"
   ]
  },
  {
   "cell_type": "code",
   "execution_count": 22,
   "id": "9c948641",
   "metadata": {},
   "outputs": [],
   "source": [
    "lemmatizer = WordNetLemmatizer()\n",
    "x = input(\"Enter the sentence to find 'spam' or 'ham': \")\n",
    "words = x.split()"
   ]
  },
  {
   "cell_type": "code",
   "execution_count": 23,
   "id": "91df7b8c",
   "metadata": {},
   "outputs": [],
   "source": [
    "stop = set(stopwords.words((\"english\")))\n",
    "punc = set(string.punctuation)\n",
    "lemmatizer = WordNetLemmatizer()"
   ]
  },
  {
   "cell_type": "code",
   "execution_count": 24,
   "id": "b387b1fd",
   "metadata": {},
   "outputs": [],
   "source": [
    "def clean(msg):\n",
    "    msg = \" \".join([i for i in msg.lower().split() if i not in stop])\n",
    "    msg = \"\".join([i for i in msg if i not in punc])\n",
    "    msg = \"\".join([lemmatizer.lemmatize(i) for i in msg])\n",
    "    msg = re.sub(r\"\\d+\",\"\",msg)\n",
    "    msg = re.sub(r\"\\s+\",\" \",msg)\n",
    "    return msg"
   ]
  },
  {
   "cell_type": "code",
   "execution_count": 25,
   "id": "d89e9491",
   "metadata": {},
   "outputs": [],
   "source": [
    "for i in range(len(x)):\n",
    "    x = clean(x)"
   ]
  },
  {
   "cell_type": "code",
   "execution_count": 26,
   "id": "12982aa2",
   "metadata": {},
   "outputs": [],
   "source": [
    "x = vectorizer.transform([x])"
   ]
  },
  {
   "cell_type": "code",
   "execution_count": 27,
   "id": "7cdbddaa",
   "metadata": {},
   "outputs": [],
   "source": [
    "preds = model.predict(x)"
   ]
  },
  {
   "cell_type": "code",
   "execution_count": 28,
   "id": "a94ffd90",
   "metadata": {},
   "outputs": [
    {
     "data": {
      "text/plain": [
       "np.str_('ham')"
      ]
     },
     "execution_count": 28,
     "metadata": {},
     "output_type": "execute_result"
    }
   ],
   "source": [
    "preds[0]"
   ]
  }
 ],
 "metadata": {
  "kernelspec": {
   "display_name": "Python 3",
   "language": "python",
   "name": "python3"
  },
  "language_info": {
   "codemirror_mode": {
    "name": "ipython",
    "version": 3
   },
   "file_extension": ".py",
   "mimetype": "text/x-python",
   "name": "python",
   "nbconvert_exporter": "python",
   "pygments_lexer": "ipython3",
   "version": "3.12.3"
  }
 },
 "nbformat": 4,
 "nbformat_minor": 5
}
