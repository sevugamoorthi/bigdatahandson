{
 "cells": [
  {
   "cell_type": "code",
   "execution_count": 25,
   "id": "0a476df0",
   "metadata": {},
   "outputs": [],
   "source": [
    "import pickle"
   ]
  },
  {
   "cell_type": "code",
   "execution_count": 26,
   "id": "4e5d5e4c",
   "metadata": {},
   "outputs": [],
   "source": [
    "model = pickle.load(open(\"logistic_regression.pkl\",'rb'))"
   ]
  },
  {
   "cell_type": "code",
   "execution_count": 27,
   "id": "1e5dbdcf",
   "metadata": {},
   "outputs": [],
   "source": [
    "while True:\n",
    "    weight = input(\"Enter the Weight: \")\n",
    "    try:\n",
    "        weight = float(weight)\n",
    "        break\n",
    "    except Exception:\n",
    "        print(\"Please enter valid numbers!\")\n",
    "\n",
    "while True:\n",
    "    length1 = input(\"Enter the Length1: \")\n",
    "    try:\n",
    "        length1 = float(length1)\n",
    "        break\n",
    "    except Exception:\n",
    "        print(\"Please enter valid numbers!\")\n",
    "\n",
    "while True:\n",
    "    length2 = input(\"Enter the Length2: \")\n",
    "    try:\n",
    "        length2 = float(length2)\n",
    "        break\n",
    "    except Exception:\n",
    "        print(\"Please enter valid numbers!\")\n",
    "    \n",
    "while True:\n",
    "    length3 = input(\"Enter the Length1: \")\n",
    "    try:\n",
    "        length3 = float(length3)\n",
    "        break\n",
    "    except Exception:\n",
    "        print(\"Please enter valid numbers!\")\n",
    "\n",
    "while True:\n",
    "    height = input(\"Enter the Height: \")\n",
    "    try:\n",
    "        height = float(height)\n",
    "        break\n",
    "    except Exception:\n",
    "        print(\"Please enter valid numbers!\")\n",
    "\n",
    "while True:\n",
    "    width = input(\"Enter the Width: \")\n",
    "    try:\n",
    "        width = float(width)\n",
    "        break\n",
    "    except Exception:\n",
    "        print(\"Please enter valid numbers!\")"
   ]
  },
  {
   "cell_type": "code",
   "execution_count": 28,
   "id": "741eec10",
   "metadata": {},
   "outputs": [
    {
     "data": {
      "text/plain": [
       "[[450.0, 26.8, 29.9, 35.0, 14.0, 5.1]]"
      ]
     },
     "execution_count": 28,
     "metadata": {},
     "output_type": "execute_result"
    }
   ],
   "source": [
    "x = [[weight,length1,length2,length3,height,width]]\n",
    "x"
   ]
  },
  {
   "cell_type": "code",
   "execution_count": 29,
   "id": "36758d76",
   "metadata": {},
   "outputs": [
    {
     "name": "stderr",
     "output_type": "stream",
     "text": [
      "c:\\Users\\sevug\\AppData\\Local\\Programs\\Python\\Python312\\Lib\\site-packages\\sklearn\\base.py:493: UserWarning: X does not have valid feature names, but LogisticRegression was fitted with feature names\n",
      "  warnings.warn(\n"
     ]
    },
    {
     "data": {
      "text/plain": [
       "'Bream'"
      ]
     },
     "execution_count": 29,
     "metadata": {},
     "output_type": "execute_result"
    }
   ],
   "source": [
    "preds = model.predict(x)\n",
    "preds[0]"
   ]
  }
 ],
 "metadata": {
  "kernelspec": {
   "display_name": "Python 3",
   "language": "python",
   "name": "python3"
  },
  "language_info": {
   "codemirror_mode": {
    "name": "ipython",
    "version": 3
   },
   "file_extension": ".py",
   "mimetype": "text/x-python",
   "name": "python",
   "nbconvert_exporter": "python",
   "pygments_lexer": "ipython3",
   "version": "3.12.3"
  }
 },
 "nbformat": 4,
 "nbformat_minor": 5
}
