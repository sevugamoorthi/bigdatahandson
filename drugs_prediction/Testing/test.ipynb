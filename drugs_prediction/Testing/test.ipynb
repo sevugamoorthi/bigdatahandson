{
 "cells": [
  {
   "cell_type": "code",
   "execution_count": 3,
   "id": "5842c87d",
   "metadata": {},
   "outputs": [],
   "source": [
    "import pandas as pd\n",
    "import pickle\n",
    "model = pickle.load(open(\"decision_tree_classifier.pkl\",'rb'))\n",
    "ohe = pickle.load(open('onehotencoder.pkl','rb'))"
   ]
  },
  {
   "cell_type": "code",
   "execution_count": 8,
   "id": "3ed06560",
   "metadata": {},
   "outputs": [],
   "source": [
    "while True:\n",
    "    age = input(\"Enter the Age: \")\n",
    "    if (int(age) > 0 and int(age) < 150):\n",
    "        age = int(age)\n",
    "        break\n",
    "    else:\n",
    "        print(\"Please enter valid numbers!\")\n",
    "\n",
    "while True:\n",
    "    sex = input(\"Enter the Sex (Male or Female choose one): \")\n",
    "    if sex.lower() == 'male' or sex.lower() == 'female':\n",
    "        break\n",
    "    else:\n",
    "        print(\"Please enter male or female!\")\n",
    "    \n",
    "while True:\n",
    "    bp = input(\"Enter the BP (Low or Normal or High): \")\n",
    "    if (bp.lower() == 'low' or bp.lower() == 'normal' or bp.lower() == 'high'):\n",
    "        break\n",
    "    else:\n",
    "        print(\"Please enter any one low, normal or high!\")\n",
    "\n",
    "while True:\n",
    "    choles = input(\"Enter the Cholesterol (Normal or High): \")\n",
    "    if (choles.lower() == 'normal' or choles.lower() == 'high'):\n",
    "        break\n",
    "    else:\n",
    "        print(\"Please enter any one normal or high!\")\n",
    "\n",
    "while True:\n",
    "    ntk = input(\"Enter the Na_to_K: \")\n",
    "    if float(ntk):\n",
    "        ntk = float(ntk)\n",
    "        break\n",
    "    else:\n",
    "        print(\"Please enter valid numbers!\")"
   ]
  },
  {
   "cell_type": "code",
   "execution_count": 20,
   "id": "4ded0602",
   "metadata": {},
   "outputs": [],
   "source": [
    "x = []\n",
    "x.append([age,sex,bp,choles,ntk])"
   ]
  },
  {
   "cell_type": "code",
   "execution_count": 26,
   "id": "ca02bb9f",
   "metadata": {},
   "outputs": [
    {
     "data": {
      "text/html": [
       "<div>\n",
       "<style scoped>\n",
       "    .dataframe tbody tr th:only-of-type {\n",
       "        vertical-align: middle;\n",
       "    }\n",
       "\n",
       "    .dataframe tbody tr th {\n",
       "        vertical-align: top;\n",
       "    }\n",
       "\n",
       "    .dataframe thead th {\n",
       "        text-align: right;\n",
       "    }\n",
       "</style>\n",
       "<table border=\"1\" class=\"dataframe\">\n",
       "  <thead>\n",
       "    <tr style=\"text-align: right;\">\n",
       "      <th></th>\n",
       "      <th>0</th>\n",
       "      <th>1</th>\n",
       "      <th>2</th>\n",
       "      <th>3</th>\n",
       "      <th>4</th>\n",
       "    </tr>\n",
       "  </thead>\n",
       "  <tbody>\n",
       "    <tr>\n",
       "      <th>0</th>\n",
       "      <td>68</td>\n",
       "      <td>male</td>\n",
       "      <td>low</td>\n",
       "      <td>normal</td>\n",
       "      <td>231.3564</td>\n",
       "    </tr>\n",
       "  </tbody>\n",
       "</table>\n",
       "</div>"
      ],
      "text/plain": [
       "    0     1    2       3         4\n",
       "0  68  male  low  normal  231.3564"
      ]
     },
     "execution_count": 26,
     "metadata": {},
     "output_type": "execute_result"
    }
   ],
   "source": [
    "x = pd.DataFrame(x)\n",
    "x"
   ]
  },
  {
   "cell_type": "code",
   "execution_count": 32,
   "id": "a829a005",
   "metadata": {},
   "outputs": [
    {
     "name": "stderr",
     "output_type": "stream",
     "text": [
      "c:\\Users\\sevug\\AppData\\Local\\Programs\\Python\\Python312\\Lib\\site-packages\\sklearn\\base.py:493: UserWarning: X does not have valid feature names, but OneHotEncoder was fitted with feature names\n",
      "  warnings.warn(\n"
     ]
    },
    {
     "data": {
      "text/plain": [
       "array([[0., 0., 0., 0., 0., 0., 0.]])"
      ]
     },
     "execution_count": 32,
     "metadata": {},
     "output_type": "execute_result"
    }
   ],
   "source": [
    "cat_col = []\n",
    "for i in x.select_dtypes('object').columns:\n",
    "    cat_col.append(i)\n",
    "encoded_x = ohe.transform(x[cat_col])\n",
    "encoded_x"
   ]
  },
  {
   "cell_type": "code",
   "execution_count": 33,
   "id": "e76d9ffd",
   "metadata": {},
   "outputs": [
    {
     "ename": "ValueError",
     "evalue": "input_features is not equal to feature_names_in_",
     "output_type": "error",
     "traceback": [
      "\u001b[1;31m---------------------------------------------------------------------------\u001b[0m",
      "\u001b[1;31mValueError\u001b[0m                                Traceback (most recent call last)",
      "Cell \u001b[1;32mIn[33], line 1\u001b[0m\n\u001b[1;32m----> 1\u001b[0m x_encoder \u001b[38;5;241m=\u001b[39m pd\u001b[38;5;241m.\u001b[39mDataFrame(encoded_x, columns\u001b[38;5;241m=\u001b[39m\u001b[43mohe\u001b[49m\u001b[38;5;241;43m.\u001b[39;49m\u001b[43mget_feature_names_out\u001b[49m\u001b[43m(\u001b[49m\u001b[43mcat_col\u001b[49m\u001b[43m)\u001b[49m)\n\u001b[0;32m      2\u001b[0m \u001b[38;5;66;03m# x_encoder.index = x.index\u001b[39;00m\n\u001b[0;32m      3\u001b[0m x_encoder\n",
      "File \u001b[1;32mc:\\Users\\sevug\\AppData\\Local\\Programs\\Python\\Python312\\Lib\\site-packages\\sklearn\\preprocessing\\_encoders.py:1208\u001b[0m, in \u001b[0;36mOneHotEncoder.get_feature_names_out\u001b[1;34m(self, input_features)\u001b[0m\n\u001b[0;32m   1188\u001b[0m \u001b[38;5;250m\u001b[39m\u001b[38;5;124;03m\"\"\"Get output feature names for transformation.\u001b[39;00m\n\u001b[0;32m   1189\u001b[0m \n\u001b[0;32m   1190\u001b[0m \u001b[38;5;124;03mParameters\u001b[39;00m\n\u001b[1;32m   (...)\u001b[0m\n\u001b[0;32m   1205\u001b[0m \u001b[38;5;124;03m    Transformed feature names.\u001b[39;00m\n\u001b[0;32m   1206\u001b[0m \u001b[38;5;124;03m\"\"\"\u001b[39;00m\n\u001b[0;32m   1207\u001b[0m check_is_fitted(\u001b[38;5;28mself\u001b[39m)\n\u001b[1;32m-> 1208\u001b[0m input_features \u001b[38;5;241m=\u001b[39m \u001b[43m_check_feature_names_in\u001b[49m\u001b[43m(\u001b[49m\u001b[38;5;28;43mself\u001b[39;49m\u001b[43m,\u001b[49m\u001b[43m \u001b[49m\u001b[43minput_features\u001b[49m\u001b[43m)\u001b[49m\n\u001b[0;32m   1209\u001b[0m cats \u001b[38;5;241m=\u001b[39m [\n\u001b[0;32m   1210\u001b[0m     \u001b[38;5;28mself\u001b[39m\u001b[38;5;241m.\u001b[39m_compute_transformed_categories(i)\n\u001b[0;32m   1211\u001b[0m     \u001b[38;5;28;01mfor\u001b[39;00m i, _ \u001b[38;5;129;01min\u001b[39;00m \u001b[38;5;28menumerate\u001b[39m(\u001b[38;5;28mself\u001b[39m\u001b[38;5;241m.\u001b[39mcategories_)\n\u001b[0;32m   1212\u001b[0m ]\n\u001b[0;32m   1214\u001b[0m name_combiner \u001b[38;5;241m=\u001b[39m \u001b[38;5;28mself\u001b[39m\u001b[38;5;241m.\u001b[39m_check_get_feature_name_combiner()\n",
      "File \u001b[1;32mc:\\Users\\sevug\\AppData\\Local\\Programs\\Python\\Python312\\Lib\\site-packages\\sklearn\\utils\\validation.py:2330\u001b[0m, in \u001b[0;36m_check_feature_names_in\u001b[1;34m(estimator, input_features, generate_names)\u001b[0m\n\u001b[0;32m   2326\u001b[0m input_features \u001b[38;5;241m=\u001b[39m np\u001b[38;5;241m.\u001b[39masarray(input_features, dtype\u001b[38;5;241m=\u001b[39m\u001b[38;5;28mobject\u001b[39m)\n\u001b[0;32m   2327\u001b[0m \u001b[38;5;28;01mif\u001b[39;00m feature_names_in_ \u001b[38;5;129;01mis\u001b[39;00m \u001b[38;5;129;01mnot\u001b[39;00m \u001b[38;5;28;01mNone\u001b[39;00m \u001b[38;5;129;01mand\u001b[39;00m \u001b[38;5;129;01mnot\u001b[39;00m np\u001b[38;5;241m.\u001b[39marray_equal(\n\u001b[0;32m   2328\u001b[0m     feature_names_in_, input_features\n\u001b[0;32m   2329\u001b[0m ):\n\u001b[1;32m-> 2330\u001b[0m     \u001b[38;5;28;01mraise\u001b[39;00m \u001b[38;5;167;01mValueError\u001b[39;00m(\u001b[38;5;124m\"\u001b[39m\u001b[38;5;124minput_features is not equal to feature_names_in_\u001b[39m\u001b[38;5;124m\"\u001b[39m)\n\u001b[0;32m   2332\u001b[0m \u001b[38;5;28;01mif\u001b[39;00m n_features_in_ \u001b[38;5;129;01mis\u001b[39;00m \u001b[38;5;129;01mnot\u001b[39;00m \u001b[38;5;28;01mNone\u001b[39;00m \u001b[38;5;129;01mand\u001b[39;00m \u001b[38;5;28mlen\u001b[39m(input_features) \u001b[38;5;241m!=\u001b[39m n_features_in_:\n\u001b[0;32m   2333\u001b[0m     \u001b[38;5;28;01mraise\u001b[39;00m \u001b[38;5;167;01mValueError\u001b[39;00m(\n\u001b[0;32m   2334\u001b[0m         \u001b[38;5;124m\"\u001b[39m\u001b[38;5;124minput_features should have length equal to number of \u001b[39m\u001b[38;5;124m\"\u001b[39m\n\u001b[0;32m   2335\u001b[0m         \u001b[38;5;124mf\u001b[39m\u001b[38;5;124m\"\u001b[39m\u001b[38;5;124mfeatures (\u001b[39m\u001b[38;5;132;01m{\u001b[39;00mn_features_in_\u001b[38;5;132;01m}\u001b[39;00m\u001b[38;5;124m), got \u001b[39m\u001b[38;5;132;01m{\u001b[39;00m\u001b[38;5;28mlen\u001b[39m(input_features)\u001b[38;5;132;01m}\u001b[39;00m\u001b[38;5;124m\"\u001b[39m\n\u001b[0;32m   2336\u001b[0m     )\n",
      "\u001b[1;31mValueError\u001b[0m: input_features is not equal to feature_names_in_"
     ]
    }
   ],
   "source": [
    "x_encoder = pd.DataFrame(encoded_x, columns=ohe.get_feature_names_out(cat_col))\n",
    "# x_encoder.index = x.index\n",
    "x_encoder"
   ]
  },
  {
   "cell_type": "code",
   "execution_count": null,
   "id": "c60295ad",
   "metadata": {},
   "outputs": [],
   "source": []
  }
 ],
 "metadata": {
  "kernelspec": {
   "display_name": "Python 3",
   "language": "python",
   "name": "python3"
  },
  "language_info": {
   "codemirror_mode": {
    "name": "ipython",
    "version": 3
   },
   "file_extension": ".py",
   "mimetype": "text/x-python",
   "name": "python",
   "nbconvert_exporter": "python",
   "pygments_lexer": "ipython3",
   "version": "3.12.3"
  }
 },
 "nbformat": 4,
 "nbformat_minor": 5
}
