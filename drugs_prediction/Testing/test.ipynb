{
 "cells": [
  {
   "cell_type": "code",
   "execution_count": 1,
   "id": "5842c87d",
   "metadata": {},
   "outputs": [],
   "source": [
    "import pandas as pd\n",
    "import pickle\n",
    "model = pickle.load(open(\"decision_tree_classifier.pkl\",'rb'))\n",
    "ohe = pickle.load(open('onehotencoder.pkl','rb'))"
   ]
  },
  {
   "cell_type": "code",
   "execution_count": 2,
   "id": "3ed06560",
   "metadata": {},
   "outputs": [
    {
     "name": "stdout",
     "output_type": "stream",
     "text": [
      "Please enter valid numbers!\n",
      "Please enter valid numbers!\n"
     ]
    }
   ],
   "source": [
    "while True:\n",
    "    age = input(\"Enter the Age: \")\n",
    "    try:\n",
    "        if (int(age) > 0 and int(age) < 150):\n",
    "            age = int(age)\n",
    "            break\n",
    "    except Exception:\n",
    "        print(\"Please enter valid numbers!\")\n",
    "\n",
    "    \n",
    "while True:\n",
    "    bp = input(\"Enter the BP (Low or Normal or High): \")\n",
    "    if (bp.lower() == 'low' or bp.lower() == 'normal' or bp.lower() == 'high'):\n",
    "        break\n",
    "    else:\n",
    "        print(\"Please enter any one low, normal or high!\")\n",
    "\n",
    "while True:\n",
    "    choles = input(\"Enter the Cholesterol (Normal or High): \")\n",
    "    if (choles.lower() == 'normal' or choles.lower() == 'high'):\n",
    "        break\n",
    "    else:\n",
    "        print(\"Please enter any one normal or high!\")\n",
    "\n",
    "while True:\n",
    "    ntk = input(\"Enter the Na_to_K: \")\n",
    "    try:\n",
    "        if float(ntk):\n",
    "            ntk = float(ntk)\n",
    "            break\n",
    "    except Exception:\n",
    "        print(\"Please enter valid numbers!\")"
   ]
  },
  {
   "cell_type": "code",
   "execution_count": 11,
   "id": "4ded0602",
   "metadata": {},
   "outputs": [],
   "source": [
    "x = []\n",
    "x.append([age,bp,choles,ntk])"
   ]
  },
  {
   "cell_type": "code",
   "execution_count": 12,
   "id": "ca02bb9f",
   "metadata": {},
   "outputs": [
    {
     "data": {
      "text/html": [
       "<div>\n",
       "<style scoped>\n",
       "    .dataframe tbody tr th:only-of-type {\n",
       "        vertical-align: middle;\n",
       "    }\n",
       "\n",
       "    .dataframe tbody tr th {\n",
       "        vertical-align: top;\n",
       "    }\n",
       "\n",
       "    .dataframe thead th {\n",
       "        text-align: right;\n",
       "    }\n",
       "</style>\n",
       "<table border=\"1\" class=\"dataframe\">\n",
       "  <thead>\n",
       "    <tr style=\"text-align: right;\">\n",
       "      <th></th>\n",
       "      <th>0</th>\n",
       "      <th>1</th>\n",
       "      <th>2</th>\n",
       "      <th>3</th>\n",
       "    </tr>\n",
       "  </thead>\n",
       "  <tbody>\n",
       "    <tr>\n",
       "      <th>0</th>\n",
       "      <td>25</td>\n",
       "      <td>low</td>\n",
       "      <td>high</td>\n",
       "      <td>125.3646</td>\n",
       "    </tr>\n",
       "  </tbody>\n",
       "</table>\n",
       "</div>"
      ],
      "text/plain": [
       "    0    1     2         3\n",
       "0  25  low  high  125.3646"
      ]
     },
     "execution_count": 12,
     "metadata": {},
     "output_type": "execute_result"
    }
   ],
   "source": [
    "x = pd.DataFrame(x)\n",
    "x"
   ]
  },
  {
   "cell_type": "code",
   "execution_count": 13,
   "id": "a829a005",
   "metadata": {},
   "outputs": [],
   "source": [
    "cat_col = []\n",
    "for i in x.select_dtypes('object').columns:\n",
    "    cat_col.append(i)"
   ]
  },
  {
   "cell_type": "code",
   "execution_count": 14,
   "id": "ae7970d5",
   "metadata": {},
   "outputs": [
    {
     "name": "stderr",
     "output_type": "stream",
     "text": [
      "c:\\Users\\sevug\\AppData\\Local\\Programs\\Python\\Python312\\Lib\\site-packages\\sklearn\\base.py:493: UserWarning: X does not have valid feature names, but OneHotEncoder was fitted with feature names\n",
      "  warnings.warn(\n"
     ]
    },
    {
     "data": {
      "text/plain": [
       "array([[0., 0., 0., 0., 0.]])"
      ]
     },
     "execution_count": 14,
     "metadata": {},
     "output_type": "execute_result"
    }
   ],
   "source": [
    "encoded_x = ohe.transform(x[cat_col])\n",
    "encoded_x"
   ]
  },
  {
   "cell_type": "code",
   "execution_count": 15,
   "id": "e9f172de",
   "metadata": {},
   "outputs": [],
   "source": [
    "x_encoder = pd.DataFrame(\n",
    "    encoded_x, \n",
    "    columns=ohe.get_feature_names_out()\n",
    ")"
   ]
  },
  {
   "cell_type": "code",
   "execution_count": 16,
   "id": "355a3052",
   "metadata": {},
   "outputs": [
    {
     "data": {
      "text/html": [
       "<div>\n",
       "<style scoped>\n",
       "    .dataframe tbody tr th:only-of-type {\n",
       "        vertical-align: middle;\n",
       "    }\n",
       "\n",
       "    .dataframe tbody tr th {\n",
       "        vertical-align: top;\n",
       "    }\n",
       "\n",
       "    .dataframe thead th {\n",
       "        text-align: right;\n",
       "    }\n",
       "</style>\n",
       "<table border=\"1\" class=\"dataframe\">\n",
       "  <thead>\n",
       "    <tr style=\"text-align: right;\">\n",
       "      <th></th>\n",
       "      <th>BP_HIGH</th>\n",
       "      <th>BP_LOW</th>\n",
       "      <th>BP_NORMAL</th>\n",
       "      <th>Cholesterol_HIGH</th>\n",
       "      <th>Cholesterol_NORMAL</th>\n",
       "    </tr>\n",
       "  </thead>\n",
       "  <tbody>\n",
       "    <tr>\n",
       "      <th>0</th>\n",
       "      <td>0.0</td>\n",
       "      <td>0.0</td>\n",
       "      <td>0.0</td>\n",
       "      <td>0.0</td>\n",
       "      <td>0.0</td>\n",
       "    </tr>\n",
       "  </tbody>\n",
       "</table>\n",
       "</div>"
      ],
      "text/plain": [
       "   BP_HIGH  BP_LOW  BP_NORMAL  Cholesterol_HIGH  Cholesterol_NORMAL\n",
       "0      0.0     0.0        0.0               0.0                 0.0"
      ]
     },
     "execution_count": 16,
     "metadata": {},
     "output_type": "execute_result"
    }
   ],
   "source": [
    "x_encoder"
   ]
  },
  {
   "cell_type": "code",
   "execution_count": 17,
   "id": "c60295ad",
   "metadata": {},
   "outputs": [
    {
     "data": {
      "text/html": [
       "<div>\n",
       "<style scoped>\n",
       "    .dataframe tbody tr th:only-of-type {\n",
       "        vertical-align: middle;\n",
       "    }\n",
       "\n",
       "    .dataframe tbody tr th {\n",
       "        vertical-align: top;\n",
       "    }\n",
       "\n",
       "    .dataframe thead th {\n",
       "        text-align: right;\n",
       "    }\n",
       "</style>\n",
       "<table border=\"1\" class=\"dataframe\">\n",
       "  <thead>\n",
       "    <tr style=\"text-align: right;\">\n",
       "      <th></th>\n",
       "      <th>0</th>\n",
       "      <th>1</th>\n",
       "      <th>2</th>\n",
       "      <th>3</th>\n",
       "      <th>BP_HIGH</th>\n",
       "      <th>BP_LOW</th>\n",
       "      <th>BP_NORMAL</th>\n",
       "      <th>Cholesterol_HIGH</th>\n",
       "      <th>Cholesterol_NORMAL</th>\n",
       "    </tr>\n",
       "  </thead>\n",
       "  <tbody>\n",
       "    <tr>\n",
       "      <th>0</th>\n",
       "      <td>25</td>\n",
       "      <td>low</td>\n",
       "      <td>high</td>\n",
       "      <td>125.3646</td>\n",
       "      <td>0.0</td>\n",
       "      <td>0.0</td>\n",
       "      <td>0.0</td>\n",
       "      <td>0.0</td>\n",
       "      <td>0.0</td>\n",
       "    </tr>\n",
       "  </tbody>\n",
       "</table>\n",
       "</div>"
      ],
      "text/plain": [
       "    0    1     2         3  BP_HIGH  BP_LOW  BP_NORMAL  Cholesterol_HIGH  \\\n",
       "0  25  low  high  125.3646      0.0     0.0        0.0               0.0   \n",
       "\n",
       "   Cholesterol_NORMAL  \n",
       "0                 0.0  "
      ]
     },
     "execution_count": 17,
     "metadata": {},
     "output_type": "execute_result"
    }
   ],
   "source": [
    "x_values = pd.concat([x,x_encoder],axis=1)\n",
    "x_values"
   ]
  },
  {
   "cell_type": "code",
   "execution_count": 32,
   "id": "76f97ec4",
   "metadata": {},
   "outputs": [
    {
     "data": {
      "text/plain": [
       "Index([                   0,                    1,                    2,\n",
       "                          3,            'BP_HIGH',             'BP_LOW',\n",
       "                'BP_NORMAL',   'Cholesterol_HIGH', 'Cholesterol_NORMAL'],\n",
       "      dtype='object')"
      ]
     },
     "execution_count": 32,
     "metadata": {},
     "output_type": "execute_result"
    }
   ],
   "source": [
    "x_values.columns"
   ]
  },
  {
   "cell_type": "code",
   "execution_count": 33,
   "id": "868e2ed6",
   "metadata": {},
   "outputs": [],
   "source": [
    "values = x_values[[0, 3, 'BP_HIGH', 'BP_LOW', 'Cholesterol_HIGH']]"
   ]
  },
  {
   "cell_type": "code",
   "execution_count": 36,
   "id": "a20ec1f3",
   "metadata": {},
   "outputs": [
    {
     "name": "stderr",
     "output_type": "stream",
     "text": [
      "C:\\Users\\sevug\\AppData\\Local\\Temp\\ipykernel_2384\\782011010.py:1: SettingWithCopyWarning: \n",
      "A value is trying to be set on a copy of a slice from a DataFrame\n",
      "\n",
      "See the caveats in the documentation: https://pandas.pydata.org/pandas-docs/stable/user_guide/indexing.html#returning-a-view-versus-a-copy\n",
      "  values.rename(columns={0:'Age', 3: \"Na_to_K\"},inplace=True)\n"
     ]
    },
    {
     "data": {
      "text/html": [
       "<div>\n",
       "<style scoped>\n",
       "    .dataframe tbody tr th:only-of-type {\n",
       "        vertical-align: middle;\n",
       "    }\n",
       "\n",
       "    .dataframe tbody tr th {\n",
       "        vertical-align: top;\n",
       "    }\n",
       "\n",
       "    .dataframe thead th {\n",
       "        text-align: right;\n",
       "    }\n",
       "</style>\n",
       "<table border=\"1\" class=\"dataframe\">\n",
       "  <thead>\n",
       "    <tr style=\"text-align: right;\">\n",
       "      <th></th>\n",
       "      <th>Age</th>\n",
       "      <th>Na_to_K</th>\n",
       "      <th>BP_HIGH</th>\n",
       "      <th>BP_LOW</th>\n",
       "      <th>Cholesterol_HIGH</th>\n",
       "    </tr>\n",
       "  </thead>\n",
       "  <tbody>\n",
       "    <tr>\n",
       "      <th>Age</th>\n",
       "      <td>25</td>\n",
       "      <td>125.3646</td>\n",
       "      <td>0.0</td>\n",
       "      <td>0.0</td>\n",
       "      <td>0.0</td>\n",
       "    </tr>\n",
       "  </tbody>\n",
       "</table>\n",
       "</div>"
      ],
      "text/plain": [
       "     Age   Na_to_K  BP_HIGH  BP_LOW  Cholesterol_HIGH\n",
       "Age   25  125.3646      0.0     0.0               0.0"
      ]
     },
     "execution_count": 36,
     "metadata": {},
     "output_type": "execute_result"
    }
   ],
   "source": [
    "values.rename(columns={0:'Age', 3: \"Na_to_K\"},inplace=True)\n",
    "values"
   ]
  },
  {
   "cell_type": "code",
   "execution_count": 37,
   "id": "4c6145b4",
   "metadata": {},
   "outputs": [],
   "source": [
    "preds = model.predict(values)"
   ]
  },
  {
   "cell_type": "code",
   "execution_count": 39,
   "id": "07ef8b18",
   "metadata": {},
   "outputs": [
    {
     "data": {
      "text/plain": [
       "'drugY'"
      ]
     },
     "execution_count": 39,
     "metadata": {},
     "output_type": "execute_result"
    }
   ],
   "source": [
    "preds[0]"
   ]
  }
 ],
 "metadata": {
  "kernelspec": {
   "display_name": "Python 3",
   "language": "python",
   "name": "python3"
  },
  "language_info": {
   "codemirror_mode": {
    "name": "ipython",
    "version": 3
   },
   "file_extension": ".py",
   "mimetype": "text/x-python",
   "name": "python",
   "nbconvert_exporter": "python",
   "pygments_lexer": "ipython3",
   "version": "3.12.3"
  }
 },
 "nbformat": 4,
 "nbformat_minor": 5
}
