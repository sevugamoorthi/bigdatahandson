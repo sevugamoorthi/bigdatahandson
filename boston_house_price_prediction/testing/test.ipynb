{
 "cells": [
  {
   "cell_type": "code",
   "execution_count": 1,
   "id": "a494995d",
   "metadata": {},
   "outputs": [],
   "source": [
    "import pickle"
   ]
  },
  {
   "cell_type": "code",
   "execution_count": 2,
   "id": "53a63df3",
   "metadata": {},
   "outputs": [],
   "source": [
    "model = pickle.load(open(\"decision_tree_regression.pkl\",\"rb\"))"
   ]
  },
  {
   "cell_type": "code",
   "execution_count": 3,
   "id": "0459423c",
   "metadata": {},
   "outputs": [],
   "source": [
    "while True:\n",
    "    crim = input(\"Enter the crim: \")\n",
    "    try:\n",
    "        crim = float(crim)\n",
    "        break\n",
    "    except Exception:\n",
    "        print(\"Please enter valid numbers!\")\n",
    "\n",
    "while True:\n",
    "    nox = input(\"Enter the nox: \")\n",
    "    try:\n",
    "        nox = float(nox)\n",
    "        break\n",
    "    except Exception:\n",
    "        print(\"Please enter valid numbers!\")\n",
    "\n",
    "while True:\n",
    "    rm = input(\"Enter the rm: \")\n",
    "    try:\n",
    "        rm = float(rm)\n",
    "        break\n",
    "    except Exception:\n",
    "        print(\"Please enter valid numbers!\")\n",
    "    \n",
    "while True:\n",
    "    dis = input(\"Enter the dis: \")\n",
    "    try:\n",
    "        dis = float(dis)\n",
    "        break\n",
    "    except Exception:\n",
    "        print(\"Please enter valid numbers!\")\n",
    "\n",
    "while True:\n",
    "    lstat = input(\"Enter the lstat: \")\n",
    "    try:\n",
    "        crim = float(crim)\n",
    "        break\n",
    "    except Exception:\n",
    "        print(\"Please enter valid numbers!\")"
   ]
  },
  {
   "cell_type": "code",
   "execution_count": 6,
   "id": "7bd7d301",
   "metadata": {},
   "outputs": [],
   "source": [
    "x = [[crim,nox,rm,dis,lstat]]"
   ]
  },
  {
   "cell_type": "code",
   "execution_count": 7,
   "id": "f21a2529",
   "metadata": {},
   "outputs": [
    {
     "name": "stderr",
     "output_type": "stream",
     "text": [
      "c:\\Users\\sevug\\AppData\\Local\\Programs\\Python\\Python312\\Lib\\site-packages\\sklearn\\base.py:493: UserWarning: X does not have valid feature names, but DecisionTreeRegressor was fitted with feature names\n",
      "  warnings.warn(\n"
     ]
    },
    {
     "data": {
      "text/plain": [
       "np.float64(17.144999999999996)"
      ]
     },
     "execution_count": 7,
     "metadata": {},
     "output_type": "execute_result"
    }
   ],
   "source": [
    "preds = model.predict(x)\n",
    "preds[0]"
   ]
  }
 ],
 "metadata": {
  "kernelspec": {
   "display_name": "Python 3",
   "language": "python",
   "name": "python3"
  },
  "language_info": {
   "codemirror_mode": {
    "name": "ipython",
    "version": 3
   },
   "file_extension": ".py",
   "mimetype": "text/x-python",
   "name": "python",
   "nbconvert_exporter": "python",
   "pygments_lexer": "ipython3",
   "version": "3.12.3"
  }
 },
 "nbformat": 4,
 "nbformat_minor": 5
}
