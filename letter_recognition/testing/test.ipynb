{
 "cells": [
  {
   "cell_type": "code",
   "execution_count": 1,
   "id": "c3f43d22",
   "metadata": {},
   "outputs": [],
   "source": [
    "import pickle\n",
    "model = pickle.load(open('svm_classifier.pkl','rb'))"
   ]
  },
  {
   "cell_type": "code",
   "execution_count": 2,
   "id": "b644d551",
   "metadata": {},
   "outputs": [],
   "source": [
    "while True:\n",
    "    xbox = input(\"Enter the xbox: \")\n",
    "    try:\n",
    "        xbox = float(xbox)\n",
    "        break\n",
    "    except Exception:\n",
    "        print(\"Enter the valid numbers!\")\n",
    "\n",
    "while True:\n",
    "    width = input(\"Enter the width: \")\n",
    "    try:\n",
    "        width = float(width)\n",
    "        break\n",
    "    except Exception:\n",
    "        print(\"Enter the valid numbers!\")\n",
    "\n",
    "while True:\n",
    "    onpix = input(\"Enter the onpix: \")\n",
    "    try:\n",
    "        onpix = float(onpix)\n",
    "        break\n",
    "    except Exception:\n",
    "        print(\"Enter the valid numbers!\")\n",
    "\n",
    "while True:\n",
    "    xbar = input(\"Enter the xbar: \")\n",
    "    try:\n",
    "        xbar = float(xbar)\n",
    "        break\n",
    "    except Exception:\n",
    "        print(\"Enter the valid numbers!\")\n",
    "\n",
    "while True:\n",
    "    ybar = input(\"Enter the ybar: \")\n",
    "    try:\n",
    "        ybar = float(ybar)\n",
    "        break\n",
    "    except Exception:\n",
    "        print(\"Enter the valid numbers!\")\n",
    "\n",
    "while True:\n",
    "    x2bar = input(\"Enter the x2bar: \")\n",
    "    try:\n",
    "        x2bar = float(x2bar)\n",
    "        break\n",
    "    except Exception:\n",
    "        print(\"Enter the valid numbers!\")\n",
    "\n",
    "while True:\n",
    "    y2bar = input(\"Enter the y2bar: \")\n",
    "    try:\n",
    "        y2bar = float(y2bar)\n",
    "        break\n",
    "    except Exception:\n",
    "        print(\"Enter the valid numbers!\")\n",
    "\n",
    "while True:\n",
    "    xybar = input(\"Enter the xybar: \")\n",
    "    try:\n",
    "        xybar = float(xybar)\n",
    "        break\n",
    "    except Exception:\n",
    "        print(\"Enter the valid numbers!\")\n",
    "\n",
    "while True:\n",
    "    x2ybar = input(\"Enter the x2ybar: \")\n",
    "    try:\n",
    "        x2ybar = float(x2ybar)\n",
    "        break\n",
    "    except Exception:\n",
    "        print(\"Enter the valid numbers!\")\n",
    "\n",
    "while True:\n",
    "    xy2bar = input(\"Enter the xy2bar: \")\n",
    "    try:\n",
    "        xy2bar = float(xy2bar)\n",
    "        break\n",
    "    except Exception:\n",
    "        print(\"Enter the valid numbers!\")\n",
    "\n",
    "while True:\n",
    "    xedge = input(\"Enter the xedge: \")\n",
    "    try:\n",
    "        xedge = float(xedge)\n",
    "        break\n",
    "    except Exception:\n",
    "        print(\"Enter the valid numbers!\")\n",
    "\n",
    "while True:\n",
    "    xedgey = input(\"Enter the xedgey: \")\n",
    "    try:\n",
    "        xedgey = float(xedgey)\n",
    "        break\n",
    "    except Exception:\n",
    "        print(\"Enter the valid numbers!\")\n",
    "\n",
    "while True:\n",
    "    yedge = input(\"Enter the yedge: \")\n",
    "    try:\n",
    "        yedge = float(yedge)\n",
    "        break\n",
    "    except Exception:\n",
    "        print(\"Enter the valid numbers!\")\n",
    "\n",
    "while True:\n",
    "    yedgex = input(\"Enter the yedgex: \")\n",
    "    try:\n",
    "        yedgex = float(yedgex)\n",
    "        break\n",
    "    except Exception:\n",
    "        print(\"Enter the valid numbers!\")"
   ]
  },
  {
   "cell_type": "code",
   "execution_count": 3,
   "id": "d0dd2675",
   "metadata": {},
   "outputs": [],
   "source": [
    "x = [[xbox, width, onpix, xbar, ybar, x2bar, y2bar, xybar, x2ybar, xy2bar, xedge, xedgey, yedge, yedgex]]"
   ]
  },
  {
   "cell_type": "code",
   "execution_count": 4,
   "id": "0b9f1dc8",
   "metadata": {},
   "outputs": [
    {
     "name": "stderr",
     "output_type": "stream",
     "text": [
      "c:\\Users\\sevug\\AppData\\Local\\Programs\\Python\\Python312\\Lib\\site-packages\\sklearn\\base.py:493: UserWarning: X does not have valid feature names, but SVC was fitted with feature names\n",
      "  warnings.warn(\n"
     ]
    }
   ],
   "source": [
    "preds = model.predict(x)"
   ]
  },
  {
   "cell_type": "code",
   "execution_count": 5,
   "id": "d786d30c",
   "metadata": {},
   "outputs": [
    {
     "data": {
      "text/plain": [
       "'C'"
      ]
     },
     "execution_count": 5,
     "metadata": {},
     "output_type": "execute_result"
    }
   ],
   "source": [
    "preds[0]"
   ]
  }
 ],
 "metadata": {
  "kernelspec": {
   "display_name": "Python 3",
   "language": "python",
   "name": "python3"
  },
  "language_info": {
   "codemirror_mode": {
    "name": "ipython",
    "version": 3
   },
   "file_extension": ".py",
   "mimetype": "text/x-python",
   "name": "python",
   "nbconvert_exporter": "python",
   "pygments_lexer": "ipython3",
   "version": "3.12.3"
  }
 },
 "nbformat": 4,
 "nbformat_minor": 5
}
