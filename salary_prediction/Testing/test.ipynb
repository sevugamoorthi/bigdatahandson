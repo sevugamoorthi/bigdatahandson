{
 "cells": [
  {
   "cell_type": "code",
   "execution_count": 1,
   "id": "fdd11708",
   "metadata": {},
   "outputs": [],
   "source": [
    "import pickle"
   ]
  },
  {
   "cell_type": "code",
   "execution_count": 2,
   "id": "832adf8e",
   "metadata": {},
   "outputs": [],
   "source": [
    "model = pickle.load(open(\"salary_prediction.pkl\",\"rb\"))"
   ]
  },
  {
   "cell_type": "code",
   "execution_count": 5,
   "id": "fedb341d",
   "metadata": {},
   "outputs": [
    {
     "name": "stdout",
     "output_type": "stream",
     "text": [
      "Enter valid experience\n",
      "Enter valid number!\n"
     ]
    }
   ],
   "source": [
    "while True:\n",
    "    exp = input(\"Enter the experience: \")\n",
    "    try:\n",
    "        exp = float(exp)\n",
    "        if float(exp) > 0 and float(exp) < 101:\n",
    "            break\n",
    "        else:\n",
    "            print(\"Enter valid experience\")\n",
    "    except Exception:\n",
    "        print(\"Enter valid number!\")"
   ]
  },
  {
   "cell_type": "code",
   "execution_count": 6,
   "id": "4a547c65",
   "metadata": {},
   "outputs": [],
   "source": [
    "x = [[exp]]"
   ]
  },
  {
   "cell_type": "code",
   "execution_count": 7,
   "id": "df43ec50",
   "metadata": {},
   "outputs": [
    {
     "data": {
      "text/plain": [
       "np.float64(163890.67566910145)"
      ]
     },
     "execution_count": 7,
     "metadata": {},
     "output_type": "execute_result"
    }
   ],
   "source": [
    "preds = model.predict(x)\n",
    "preds[0]"
   ]
  }
 ],
 "metadata": {
  "kernelspec": {
   "display_name": "Python 3",
   "language": "python",
   "name": "python3"
  },
  "language_info": {
   "codemirror_mode": {
    "name": "ipython",
    "version": 3
   },
   "file_extension": ".py",
   "mimetype": "text/x-python",
   "name": "python",
   "nbconvert_exporter": "python",
   "pygments_lexer": "ipython3",
   "version": "3.12.3"
  }
 },
 "nbformat": 4,
 "nbformat_minor": 5
}
