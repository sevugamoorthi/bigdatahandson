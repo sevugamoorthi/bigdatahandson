{
 "cells": [
  {
   "cell_type": "code",
   "execution_count": 8,
   "id": "71bf3c1e",
   "metadata": {},
   "outputs": [],
   "source": [
    "import pickle\n",
    "\n",
    "model = pickle.load(open(r'C:\\Users\\sevug\\Desktop\\New folder\\bigdatahandson\\glass_type_prediction\\testing\\knn_model.pkl','rb'))"
   ]
  },
  {
   "cell_type": "code",
   "execution_count": 9,
   "id": "5685099e",
   "metadata": {},
   "outputs": [],
   "source": [
    "while True:\n",
    "    ri = input(\"Enter the RI: \")\n",
    "    try:\n",
    "        ri = float(ri)\n",
    "        break\n",
    "    except Exception:\n",
    "        print(\"Enter valid numbers!\")\n",
    "\n",
    "while True:\n",
    "    na = input(\"Enter the Na: \")\n",
    "    try:\n",
    "        na = float(na)\n",
    "        break\n",
    "    except Exception:\n",
    "        print(\"Enter valid numbers!\")\n",
    "\n",
    "while True:\n",
    "    ca = input(\"Enter the Ca: \")\n",
    "    try:\n",
    "        ca = float(ca)\n",
    "        break\n",
    "    except Exception:\n",
    "        print(\"Enter valid numbers!\")\n",
    "\n",
    "while True:\n",
    "    fe = input(\"Enter the Fe: \")\n",
    "    try:\n",
    "        fe = float(fe)\n",
    "        break\n",
    "    except Exception:\n",
    "        print(\"Enter valid numbers!\")\n",
    "\n",
    "while True:\n",
    "    al = input(\"Enter the Al: \")\n",
    "    try:\n",
    "        al = float(al)\n",
    "        break\n",
    "    except Exception:\n",
    "        print(\"Enter valid numbers!\")"
   ]
  },
  {
   "cell_type": "code",
   "execution_count": 14,
   "id": "6ff7dae0",
   "metadata": {},
   "outputs": [],
   "source": [
    "x = [[ri, na, ca, fe, al]]"
   ]
  },
  {
   "cell_type": "code",
   "execution_count": 15,
   "id": "c95f8cf6",
   "metadata": {},
   "outputs": [
    {
     "name": "stderr",
     "output_type": "stream",
     "text": [
      "c:\\Users\\sevug\\AppData\\Local\\Programs\\Python\\Python312\\Lib\\site-packages\\sklearn\\base.py:493: UserWarning: X does not have valid feature names, but KNeighborsClassifier was fitted with feature names\n",
      "  warnings.warn(\n"
     ]
    }
   ],
   "source": [
    "preds = model.predict(x)"
   ]
  },
  {
   "cell_type": "code",
   "execution_count": null,
   "id": "7872f239",
   "metadata": {},
   "outputs": [],
   "source": [
    "glass = ['building_windows_float_processed', 'building_windows_non_float_processed', 'vehicle_windows_float_processed', 'vehicle_windows_non_float_processed (Not in this dataset)', 'containers', 'tableware', 'headlamps']"
   ]
  },
  {
   "cell_type": "code",
   "execution_count": 25,
   "id": "6f06349e",
   "metadata": {},
   "outputs": [
    {
     "name": "stdout",
     "output_type": "stream",
     "text": [
      "headlamps\n"
     ]
    }
   ],
   "source": [
    "for i in range(len(glass)):\n",
    "    if i == (int(preds[0])) - 1:\n",
    "        print(glass[i])"
   ]
  }
 ],
 "metadata": {
  "kernelspec": {
   "display_name": "Python 3",
   "language": "python",
   "name": "python3"
  },
  "language_info": {
   "codemirror_mode": {
    "name": "ipython",
    "version": 3
   },
   "file_extension": ".py",
   "mimetype": "text/x-python",
   "name": "python",
   "nbconvert_exporter": "python",
   "pygments_lexer": "ipython3",
   "version": "3.12.3"
  }
 },
 "nbformat": 4,
 "nbformat_minor": 5
}
